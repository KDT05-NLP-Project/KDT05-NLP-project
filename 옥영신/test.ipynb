{
 "cells": [
  {
   "cell_type": "code",
   "execution_count": 9,
   "id": "initial_id",
   "metadata": {
    "collapsed": true,
    "ExecuteTime": {
     "end_time": "2024-04-03T07:57:40.422461Z",
     "start_time": "2024-04-03T07:57:40.406811Z"
    }
   },
   "outputs": [],
   "source": [
    "import pandas as pd\n",
    "import numpy as np\n",
    "import torch"
   ]
  },
  {
   "cell_type": "code",
   "outputs": [
    {
     "data": {
      "text/plain": "   회차   시간    인물                                                 대사\n0   1  0~5  # 상황  비오는 밤길을 달려가는 차량. 헤드라이트 클로즈업 및 차창 밖으로 비가 내리고 있는...\n1   1  0~5  # 상황           비가 떨어지는 자동차 바닥 아래로 스타워즈 오프닝 스타일의 자막 흘러감.\n2   1  0~5  나레이션  이 이야기는 암울했던 민족의 수난기와 격동기의 역사를 살다 갔던 영원한 야인 김두한...\n3   1  0~5  나레이션  그러나 드라마의 원만한 진행을 위하여 시대와 역사적 상황을 운영하는 인물 일부분에서...\n4   1  0~5  # 장소                                          어느 도예촌 전경",
      "text/html": "<div>\n<style scoped>\n    .dataframe tbody tr th:only-of-type {\n        vertical-align: middle;\n    }\n\n    .dataframe tbody tr th {\n        vertical-align: top;\n    }\n\n    .dataframe thead th {\n        text-align: right;\n    }\n</style>\n<table border=\"1\" class=\"dataframe\">\n  <thead>\n    <tr style=\"text-align: right;\">\n      <th></th>\n      <th>회차</th>\n      <th>시간</th>\n      <th>인물</th>\n      <th>대사</th>\n    </tr>\n  </thead>\n  <tbody>\n    <tr>\n      <th>0</th>\n      <td>1</td>\n      <td>0~5</td>\n      <td># 상황</td>\n      <td>비오는 밤길을 달려가는 차량. 헤드라이트 클로즈업 및 차창 밖으로 비가 내리고 있는...</td>\n    </tr>\n    <tr>\n      <th>1</th>\n      <td>1</td>\n      <td>0~5</td>\n      <td># 상황</td>\n      <td>비가 떨어지는 자동차 바닥 아래로 스타워즈 오프닝 스타일의 자막 흘러감.</td>\n    </tr>\n    <tr>\n      <th>2</th>\n      <td>1</td>\n      <td>0~5</td>\n      <td>나레이션</td>\n      <td>이 이야기는 암울했던 민족의 수난기와 격동기의 역사를 살다 갔던 영원한 야인 김두한...</td>\n    </tr>\n    <tr>\n      <th>3</th>\n      <td>1</td>\n      <td>0~5</td>\n      <td>나레이션</td>\n      <td>그러나 드라마의 원만한 진행을 위하여 시대와 역사적 상황을 운영하는 인물 일부분에서...</td>\n    </tr>\n    <tr>\n      <th>4</th>\n      <td>1</td>\n      <td>0~5</td>\n      <td># 장소</td>\n      <td>어느 도예촌 전경</td>\n    </tr>\n  </tbody>\n</table>\n</div>"
     },
     "execution_count": 11,
     "metadata": {},
     "output_type": "execute_result"
    }
   ],
   "source": [
    "# 1부 대본 데이터 불러오기\n",
    "script1 = pd.read_excel('../data/야인시대 1부 (1~50) 통합대본.xlsx')\n",
    "script1 = script1.dropna()\n",
    "script1.head()"
   ],
   "metadata": {
    "collapsed": false,
    "ExecuteTime": {
     "end_time": "2024-04-03T07:58:00.765015Z",
     "start_time": "2024-04-03T07:57:59.139217Z"
    }
   },
   "id": "774f8597b4d7f06a",
   "execution_count": 11
  },
  {
   "cell_type": "code",
   "outputs": [
    {
     "data": {
      "text/plain": "   회차   시간    인물                                                 대사\n0  51  0~5  # 장소                            절간에 앉아있는 김두한, 불상 등 클로즈업\n1  51  0~5  # 두한                                        고민가득한 표정 줌인\n2  51  0~5    두한  해방이다. 그토록 온 세상이 염원하던 독립이 왔다. 이 독립을 위해 얼마나 많은 사...\n3  51  0~5    두한  아버님이 그리하셨고 어머님이 그리하셨다. 이제 난 이 새로운 조국에서 과연 무엇을 ...\n4  51  0~5    두한    주먹패로 살아간다는 것은 더 이상 의미가 없다. 무엇을 위해 누구와 싸운단 말인가?*",
      "text/html": "<div>\n<style scoped>\n    .dataframe tbody tr th:only-of-type {\n        vertical-align: middle;\n    }\n\n    .dataframe tbody tr th {\n        vertical-align: top;\n    }\n\n    .dataframe thead th {\n        text-align: right;\n    }\n</style>\n<table border=\"1\" class=\"dataframe\">\n  <thead>\n    <tr style=\"text-align: right;\">\n      <th></th>\n      <th>회차</th>\n      <th>시간</th>\n      <th>인물</th>\n      <th>대사</th>\n    </tr>\n  </thead>\n  <tbody>\n    <tr>\n      <th>0</th>\n      <td>51</td>\n      <td>0~5</td>\n      <td># 장소</td>\n      <td>절간에 앉아있는 김두한, 불상 등 클로즈업</td>\n    </tr>\n    <tr>\n      <th>1</th>\n      <td>51</td>\n      <td>0~5</td>\n      <td># 두한</td>\n      <td>고민가득한 표정 줌인</td>\n    </tr>\n    <tr>\n      <th>2</th>\n      <td>51</td>\n      <td>0~5</td>\n      <td>두한</td>\n      <td>해방이다. 그토록 온 세상이 염원하던 독립이 왔다. 이 독립을 위해 얼마나 많은 사...</td>\n    </tr>\n    <tr>\n      <th>3</th>\n      <td>51</td>\n      <td>0~5</td>\n      <td>두한</td>\n      <td>아버님이 그리하셨고 어머님이 그리하셨다. 이제 난 이 새로운 조국에서 과연 무엇을 ...</td>\n    </tr>\n    <tr>\n      <th>4</th>\n      <td>51</td>\n      <td>0~5</td>\n      <td>두한</td>\n      <td>주먹패로 살아간다는 것은 더 이상 의미가 없다. 무엇을 위해 누구와 싸운단 말인가?*</td>\n    </tr>\n  </tbody>\n</table>\n</div>"
     },
     "execution_count": 12,
     "metadata": {},
     "output_type": "execute_result"
    }
   ],
   "source": [
    "# 2부 대본 데이터 불러오기\n",
    "script2 = pd.read_excel('../data/야인시대 2부(51~124) 통합대본.xlsx')\n",
    "script2 = script2.dropna()\n",
    "script2.head()"
   ],
   "metadata": {
    "collapsed": false,
    "ExecuteTime": {
     "end_time": "2024-04-03T07:58:04.452877Z",
     "start_time": "2024-04-03T07:58:02.241754Z"
    }
   },
   "id": "e7769272c46dc742",
   "execution_count": 12
  },
  {
   "cell_type": "code",
   "outputs": [
    {
     "data": {
      "text/plain": "        회차     시간    인물                                                 대사\n0        1    0~5  # 상황  비오는 밤길을 달려가는 차량. 헤드라이트 클로즈업 및 차창 밖으로 비가 내리고 있는...\n1        1    0~5  # 상황           비가 떨어지는 자동차 바닥 아래로 스타워즈 오프닝 스타일의 자막 흘러감.\n2        1    0~5  나레이션  이 이야기는 암울했던 민족의 수난기와 격동기의 역사를 살다 갔던 영원한 야인 김두한...\n3        1    0~5  나레이션  그러나 드라마의 원만한 진행을 위하여 시대와 역사적 상황을 운영하는 인물 일부분에서...\n4        1    0~5  # 장소                                          어느 도예촌 전경\n...    ...    ...   ...                                                ...\n35719  124  60~65  # 사물                                       김두한 영정 클로즈 업\n35720  124  60~65  나레이션  김두한. 그는 일제 말 우리가 주권을 잃었던 식민지 시절부터 해방 이후 좌우익의 대...\n35721  124  60~65   최동열  나는 오랫동안 자네를 지켜보아 온 사람일세. 자네는 자네답게 살았어. 조선의 주먹 ...\n35722  124  60~65   최동열  나름대로 자네의 역사를 가지고 자네의 시대를 치열하고 열심히 살았다는 얘기야. 뭐랄...\n35723  124  60~65  나레이션  야인시대! 그렇다. 그것은 바로 그가 몸바쳐 살아왔던 이 나라 격동기의 또 다른 역...\n\n[61624 rows x 4 columns]",
      "text/html": "<div>\n<style scoped>\n    .dataframe tbody tr th:only-of-type {\n        vertical-align: middle;\n    }\n\n    .dataframe tbody tr th {\n        vertical-align: top;\n    }\n\n    .dataframe thead th {\n        text-align: right;\n    }\n</style>\n<table border=\"1\" class=\"dataframe\">\n  <thead>\n    <tr style=\"text-align: right;\">\n      <th></th>\n      <th>회차</th>\n      <th>시간</th>\n      <th>인물</th>\n      <th>대사</th>\n    </tr>\n  </thead>\n  <tbody>\n    <tr>\n      <th>0</th>\n      <td>1</td>\n      <td>0~5</td>\n      <td># 상황</td>\n      <td>비오는 밤길을 달려가는 차량. 헤드라이트 클로즈업 및 차창 밖으로 비가 내리고 있는...</td>\n    </tr>\n    <tr>\n      <th>1</th>\n      <td>1</td>\n      <td>0~5</td>\n      <td># 상황</td>\n      <td>비가 떨어지는 자동차 바닥 아래로 스타워즈 오프닝 스타일의 자막 흘러감.</td>\n    </tr>\n    <tr>\n      <th>2</th>\n      <td>1</td>\n      <td>0~5</td>\n      <td>나레이션</td>\n      <td>이 이야기는 암울했던 민족의 수난기와 격동기의 역사를 살다 갔던 영원한 야인 김두한...</td>\n    </tr>\n    <tr>\n      <th>3</th>\n      <td>1</td>\n      <td>0~5</td>\n      <td>나레이션</td>\n      <td>그러나 드라마의 원만한 진행을 위하여 시대와 역사적 상황을 운영하는 인물 일부분에서...</td>\n    </tr>\n    <tr>\n      <th>4</th>\n      <td>1</td>\n      <td>0~5</td>\n      <td># 장소</td>\n      <td>어느 도예촌 전경</td>\n    </tr>\n    <tr>\n      <th>...</th>\n      <td>...</td>\n      <td>...</td>\n      <td>...</td>\n      <td>...</td>\n    </tr>\n    <tr>\n      <th>35719</th>\n      <td>124</td>\n      <td>60~65</td>\n      <td># 사물</td>\n      <td>김두한 영정 클로즈 업</td>\n    </tr>\n    <tr>\n      <th>35720</th>\n      <td>124</td>\n      <td>60~65</td>\n      <td>나레이션</td>\n      <td>김두한. 그는 일제 말 우리가 주권을 잃었던 식민지 시절부터 해방 이후 좌우익의 대...</td>\n    </tr>\n    <tr>\n      <th>35721</th>\n      <td>124</td>\n      <td>60~65</td>\n      <td>최동열</td>\n      <td>나는 오랫동안 자네를 지켜보아 온 사람일세. 자네는 자네답게 살았어. 조선의 주먹 ...</td>\n    </tr>\n    <tr>\n      <th>35722</th>\n      <td>124</td>\n      <td>60~65</td>\n      <td>최동열</td>\n      <td>나름대로 자네의 역사를 가지고 자네의 시대를 치열하고 열심히 살았다는 얘기야. 뭐랄...</td>\n    </tr>\n    <tr>\n      <th>35723</th>\n      <td>124</td>\n      <td>60~65</td>\n      <td>나레이션</td>\n      <td>야인시대! 그렇다. 그것은 바로 그가 몸바쳐 살아왔던 이 나라 격동기의 또 다른 역...</td>\n    </tr>\n  </tbody>\n</table>\n<p>61624 rows × 4 columns</p>\n</div>"
     },
     "execution_count": 13,
     "metadata": {},
     "output_type": "execute_result"
    }
   ],
   "source": [
    "# 데이터 합치기\n",
    "script = pd.concat([script1, script2])\n",
    "script"
   ],
   "metadata": {
    "collapsed": false,
    "ExecuteTime": {
     "end_time": "2024-04-03T07:58:22.341924Z",
     "start_time": "2024-04-03T07:58:22.319360Z"
    }
   },
   "id": "88d4de27d903735",
   "execution_count": 13
  },
  {
   "cell_type": "code",
   "outputs": [],
   "source": [
    "from sklearn.feature_extraction.text import TfidfVectorizer\n",
    "from sklearn.svm import LinearSVC\n",
    "from sklearn.pipeline import Pipeline\n",
    "from sklearn.model_selection import train_test_split\n",
    "from sklearn.metrics import classification_report\n",
    "\n",
    "# 대사와 레이블을 포함하는 데이터프레임\n",
    "df = pd.DataFrame({\n",
    "    '대사': script['대사'],  # 대사 컬럼\n",
    "    '레이블': script['레이블']  # 레이블 컬럼.\n",
    "})\n",
    "\n",
    "# 훈련 데이터와 테스트 데이터로 분리\n",
    "X_train, X_test, y_train, y_test = train_test_split(df['대사'], df['레이블'], test_size=0.2, random_state=42)\n",
    "\n",
    "# 파이프라인 생성\n",
    "text_clf = Pipeline([\n",
    "    ('tfidf', TfidfVectorizer()),\n",
    "    ('clf', LinearSVC()),\n",
    "])\n",
    "\n",
    "# 모델 훈련\n",
    "text_clf.fit(X_train, y_train)\n",
    "\n",
    "# 테스트 데이터에 대한 예측\n",
    "predictions = text_clf.predict(X_test)\n",
    "\n",
    "# 성능 보고서 출력\n",
    "print(classification_report(y_test, predictions))"
   ],
   "metadata": {
    "collapsed": false
   },
   "id": "de5db825b230844d"
  },
  {
   "cell_type": "code",
   "outputs": [],
   "source": [
    "# BERT 모델을 사용한 대화 분류\n",
    "from transformers import BertTokenizer, BertForSequenceClassification\n",
    "from torch.utils.data import Dataset, DataLoader\n",
    "from sklearn.model_selection import train_test_split\n",
    "import torch\n",
    "\n",
    "# BERT 토크나이저와 모델 로드\n",
    "tokenizer = BertTokenizer.from_pretrained('bert-base-multilingual-cased')\n",
    "model = BertForSequenceClassification.from_pretrained('bert-base-multilingual-cased', num_labels=6)  # 레이블 수에 맞게 조정\n",
    "\n",
    "# 데이터셋 정의\n",
    "class DialogueDataset(Dataset):\n",
    "    def __init__(self, dialogues, labels, tokenizer, max_len):\n",
    "        self.dialogues = dialogues\n",
    "        self.labels = labels\n",
    "        self.tokenizer = tokenizer\n",
    "        self.max_len = max_len\n",
    "\n",
    "    def __len__(self):\n",
    "        return len(self.dialogues)\n",
    "\n",
    "    def __getitem__(self, item):\n",
    "        dialogue = str(self.dialogues[item])\n",
    "        label = self.labels[item]\n",
    "\n",
    "        encoding = self.tokenizer.encode_plus(\n",
    "            dialogue,\n",
    "            add_special_tokens=True,\n",
    "            max_length=self.max_len,\n",
    "            return_token_type_ids=False,\n",
    "            padding='max_length',\n",
    "            return_attention_mask=True,\n",
    "            return_tensors='pt',\n",
    "        )\n",
    "\n",
    "        return {\n",
    "            'dialogue_text': dialogue,\n",
    "            'input_ids': encoding['input_ids'].flatten(),\n",
    "            'attention_mask': encoding['attention_mask'].flatten(),\n",
    "            'labels': torch.tensor(label, dtype=torch.long)\n",
    "        }\n",
    "\n",
    "# 데이터셋과 데이터로더 생성\n",
    "max_len = 128\n",
    "batch_size = 16\n",
    "dataset = DialogueDataset(df['대사'].to_numpy(), df['레이블'].to_numpy(), tokenizer, max_len)\n",
    "train_data, test_data = train_test_split(dataset, test_size=0.2, random_state=42)\n",
    "train_loader = DataLoader(train_data, batch_size=batch_size)\n",
    "test_loader = DataLoader(test_data, batch_size=batch_size)\n",
    "\n",
    "# 모델 훈련\n",
    "device = torch.device('cuda' if torch.cuda.is_available() else 'cpu')\n",
    "model = model.to(device)\n",
    "\n",
    "optimizer = torch.optim.Adam(model.parameters(), lr=1e-5)\n",
    "loss_fn = torch.nn.CrossEntropyLoss().to(device)\n",
    "\n",
    "for epoch in range(epochs):\n",
    "    model.train()\n",
    "    for batch in train_loader:\n",
    "        input_ids = batch['input_ids'].to(device)\n",
    "        attention_mask = batch['attention_mask'].to(device)\n",
    "        labels = batch['labels'].to(device)\n",
    "\n",
    "        outputs = model(input_ids=input_ids, attention_mask=attention_mask, labels=labels)\n",
    "        loss = outputs[0]\n",
    "        loss.backward()\n",
    "        optimizer.step()\n",
    "        optimizer.zero_grad()\n",
    "\n",
    "# 모델 평가\n",
    "model.eval()\n",
    "for batch in test_loader:\n",
    "    input_ids = batch['input_ids'].to(device)\n",
    "    attention_mask = batch['attention_mask'].to(device)\n",
    "    labels = batch['labels'].to(device)\n",
    "\n",
    "    with torch.no_grad():\n",
    "        outputs = model(input_ids=input_ids, attention_mask=attention_mask, labels=labels)\n",
    "\n",
    "    logits = outputs[1]\n",
    "    predictions = torch.argmax(logits, dim=-1)\n",
    "    correct_predictions = predictions == labels\n",
    "    accuracy = correct_predictions.sum().item() / correct_predictions.numel()\n",
    "\n",
    "print(f'Test Accuracy: {accuracy * 100:.2f}%')"
   ],
   "metadata": {
    "collapsed": false
   },
   "id": "93c48a7444807f2b"
  }
 ],
 "metadata": {
  "kernelspec": {
   "display_name": "Python 3",
   "language": "python",
   "name": "python3"
  },
  "language_info": {
   "codemirror_mode": {
    "name": "ipython",
    "version": 2
   },
   "file_extension": ".py",
   "mimetype": "text/x-python",
   "name": "python",
   "nbconvert_exporter": "python",
   "pygments_lexer": "ipython2",
   "version": "2.7.6"
  }
 },
 "nbformat": 4,
 "nbformat_minor": 5
}
