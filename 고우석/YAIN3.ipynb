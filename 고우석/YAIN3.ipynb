{
 "cells": [
  {
   "cell_type": "code",
   "execution_count": 50,
   "id": "initial_id",
   "metadata": {
    "collapsed": true,
    "ExecuteTime": {
     "end_time": "2024-04-04T23:56:35.187107Z",
     "start_time": "2024-04-04T23:56:34.943032800Z"
    }
   },
   "outputs": [],
   "source": [
    "import pandas as pd\n",
    "import torch\n",
    "import torch.nn as nn\n",
    "from torch.utils.data import Dataset, DataLoader\n",
    "from torchtext.data.utils import get_tokenizer\n",
    "from torchtext.vocab import build_vocab_from_iterator"
   ]
  },
  {
   "cell_type": "code",
   "outputs": [],
   "source": [
    "file='../data/first.xlsx'\n",
    "file2='../data/second.xlsx'"
   ],
   "metadata": {
    "collapsed": false,
    "ExecuteTime": {
     "end_time": "2024-04-04T23:56:35.224754300Z",
     "start_time": "2024-04-04T23:56:35.192335100Z"
    }
   },
   "id": "49861f79c2a8fbc7",
   "execution_count": 51
  },
  {
   "cell_type": "code",
   "outputs": [],
   "source": [
    "df=pd.read_excel(file)\n",
    "df2=pd.read_excel(file2)\n",
    "df= pd.concat([df, df2], axis=0)"
   ],
   "metadata": {
    "collapsed": false,
    "ExecuteTime": {
     "end_time": "2024-04-04T23:56:39.996532500Z",
     "start_time": "2024-04-04T23:56:35.226850700Z"
    }
   },
   "id": "339ae304b9a992b5",
   "execution_count": 52
  },
  {
   "cell_type": "code",
   "outputs": [],
   "source": [
    "# 인물 컬럼에서 \"#\"으로 시작하는 행은 제거하는 코드 \n",
    "df = df[df[\"인물\"].str.startswith(\"#\") == False]"
   ],
   "metadata": {
    "collapsed": false,
    "ExecuteTime": {
     "end_time": "2024-04-04T23:56:40.042355Z",
     "start_time": "2024-04-04T23:56:39.998607200Z"
    }
   },
   "id": "2167025c2cd3ed03",
   "execution_count": 53
  },
  {
   "cell_type": "code",
   "outputs": [],
   "source": [
    "people=list(df[\"인물\"].value_counts()[:50].index) # 대사가 많은 인물만 추리기 "
   ],
   "metadata": {
    "collapsed": false,
    "ExecuteTime": {
     "end_time": "2024-04-04T23:56:40.045606400Z",
     "start_time": "2024-04-04T23:56:40.033859900Z"
    }
   },
   "id": "344c91764fc957aa",
   "execution_count": 54
  },
  {
   "cell_type": "code",
   "outputs": [
    {
     "data": {
      "text/plain": "인물\n두한      5677\n이정재     2158\n김영태     1803\n임화수     1492\n정진영     1314\n최동열     1141\n개코      1040\n김무옥      966\n미와       943\n문영철      861\n시라소니     828\n하야시      687\n조병옥      659\n곽영주      653\n이기붕      618\n신영균      611\n유지광      594\n이승만      585\n김기홍      584\n유진산      583\n나레이션     536\n이화룡      534\n삼수       497\n나미꼬      474\n구마적      471\n이석재      455\n원노인      442\n눈물       439\n설향       342\n김관철      341\n친할머니     341\n쌍칼       337\n번개       335\n정대발      333\n애란       294\n오숙근      293\n김동진      289\n김천호      284\n이억일      276\n정팔       272\n한백수      272\n장택상      268\n이영숙      266\n소년개코     265\n왕발       258\n마루오까     253\n조열승      228\n박인애      227\n오무라      227\n와싱턴      225\nName: count, dtype: int64"
     },
     "execution_count": 55,
     "metadata": {},
     "output_type": "execute_result"
    }
   ],
   "source": [
    "# 두한, 청년두한, 소년두한\n",
    "# 정진영, 청년진영 \n",
    "# 개코, 소년개코 \n",
    "# 해당 인물을 같은 라벨로 표시하기 : replace사용\n",
    "replace_dict = {\n",
    "    \"청년두한\": \"두한\",\n",
    "    \"소년두한\": \"두한\",\n",
    "    \"청년진영\": \"정진영\",\n",
    "    \"청년개코\": \"개코\"\n",
    "}\n",
    "\n",
    "df[\"인물\"] = df[\"인물\"].replace(replace_dict)\n",
    "df[\"인물\"].value_counts()[:50]"
   ],
   "metadata": {
    "collapsed": false,
    "ExecuteTime": {
     "end_time": "2024-04-04T23:56:40.082295100Z",
     "start_time": "2024-04-04T23:56:40.048670700Z"
    }
   },
   "id": "1c018a8266d4fc24",
   "execution_count": 55
  },
  {
   "cell_type": "code",
   "outputs": [],
   "source": [
    "import re\n",
    "\n",
    "def remove_punctuations(text):\n",
    "    return re.sub(\"[.,:;?!*~]\", \"\", text)\n",
    "\n",
    "df[\"대사\"] = df[\"대사\"].apply(remove_punctuations)"
   ],
   "metadata": {
    "collapsed": false,
    "ExecuteTime": {
     "end_time": "2024-04-04T23:56:40.193999500Z",
     "start_time": "2024-04-04T23:56:40.081299500Z"
    }
   },
   "id": "13ff44bc8e1d435f",
   "execution_count": 56
  },
  {
   "cell_type": "code",
   "outputs": [],
   "source": [
    "people=['김두한',\n",
    "    '쌍칼',\n",
    "    '문영철',\n",
    "    '김무옥',\n",
    "    '번개',\n",
    "    '김영태',\n",
    "    '털보',\n",
    "    '삼수',\n",
    "    '병수',\n",
    "    '와싱턴',\n",
    "    '신영균',\n",
    "    '개코',\n",
    "    '홍만길',\n",
    "    '휘발유',\n",
    "    '정진영',\n",
    "    '김관철',\n",
    "    '갈치',\n",
    "    '아구',\n",
    "    '홍영철',\n",
    "    '조일환',\n",
    "        '시라소니',\n",
    "        '이정재',\n",
    "        '구마적',\n",
    "        '임화수',\n",
    "        '이석재',\n",
    "        '이화룡',\n",
    "        '정팔']\n",
    "df=df[df[\"인물\"].isin(people)].reset_index(drop=True)\n",
    "df.to_csv('../data/우미관 패거리.csv', index=False)"
   ],
   "metadata": {
    "collapsed": false,
    "ExecuteTime": {
     "end_time": "2024-04-04T23:56:40.261759400Z",
     "start_time": "2024-04-04T23:56:40.196088500Z"
    }
   },
   "id": "f00a81c9e56ceaec",
   "execution_count": 57
  },
  {
   "cell_type": "code",
   "outputs": [],
   "source": [
    "# '인물' 값과 서열을 매핑한 딕셔너리 생성\n",
    "# 오야붕급>= 준오야급>= 오야보좌급>= 상급전투원급>= 중급전투원급>=하급전투원급>=말단급>=닭대가리급>=피라미급\n",
    "power_mapping = {\n",
    "    '김두한':\"오야붕급\" ,\n",
    "    '쌍칼': \"오야붕급\",\n",
    "    '문영철':'오야보좌급',\n",
    "    '김무옥':'오야보좌급' ,\n",
    "    '번개':'하급전투원급' ,\n",
    "    '김영태':'준오야급' ,\n",
    "    '털보':'하급전투원급' ,\n",
    "    '삼수':'하급전투원급' ,\n",
    "    '병수':'피라미급' ,\n",
    "    '와싱턴':'하급전투원급' ,\n",
    "    '신영균':'상급전투원급' ,\n",
    "    '개코':'하급전투원급' ,\n",
    "    '홍만길':'중급전투원급' ,\n",
    "    '휘발유':'하급전투원급' ,\n",
    "    '정진영':'상급전투원급' ,\n",
    "    '김관철':'말단급' ,\n",
    "    '갈치':'피라미급' ,\n",
    "    '아구':'피라미급' ,\n",
    "    '홍영철':'닭대가리급' ,\n",
    "    '조일환':'닭대가리급',\n",
    "    '시라소니':'오야붕급',\n",
    "    '이정재':'오야붕급',\n",
    "    '구마적':'오야붕급',\n",
    "    '임화수':'중급전투원급',\n",
    "    '이석재':'중급전투원급',\n",
    "    '이화룡':'오야붕급',\n",
    "    '정팔':'준오야급'\n",
    "}\n",
    "\n",
    "# '전투력' 열 추가 및 전투력 값 매핑\n",
    "df['서열'] = df['인물'].map(power_mapping)"
   ],
   "metadata": {
    "collapsed": false,
    "ExecuteTime": {
     "end_time": "2024-04-04T23:56:40.275723200Z",
     "start_time": "2024-04-04T23:56:40.267025800Z"
    }
   },
   "id": "82d607abae68991",
   "execution_count": 58
  },
  {
   "cell_type": "code",
   "outputs": [],
   "source": [
    "label = df[\"서열\"]\n",
    "feature = df[\"대사\"]"
   ],
   "metadata": {
    "collapsed": false,
    "ExecuteTime": {
     "end_time": "2024-04-04T23:56:40.299226800Z",
     "start_time": "2024-04-04T23:56:40.277031200Z"
    }
   },
   "id": "13146f8070dc3bd2",
   "execution_count": 59
  },
  {
   "cell_type": "markdown",
   "source": [
    "[라벨 인코딩]"
   ],
   "metadata": {
    "collapsed": false
   },
   "id": "e199cf032718acd8"
  },
  {
   "cell_type": "code",
   "outputs": [
    {
     "data": {
      "text/plain": "array([4, 8, 2, 3, 5, 7, 6, 1, 0])"
     },
     "execution_count": 60,
     "metadata": {},
     "output_type": "execute_result"
    }
   ],
   "source": [
    "# label 을 인코딩하기\n",
    "from sklearn.preprocessing import LabelEncoder\n",
    "encoder = LabelEncoder()\n",
    "encoder.fit(label)\n",
    "label = encoder.transform(label)\n",
    "df[\"서열\"]=label\n",
    "df[\"서열\"].unique()"
   ],
   "metadata": {
    "collapsed": false,
    "ExecuteTime": {
     "end_time": "2024-04-04T23:56:40.317528700Z",
     "start_time": "2024-04-04T23:56:40.298108900Z"
    }
   },
   "id": "a36ece2ad4d16c54",
   "execution_count": 60
  },
  {
   "cell_type": "code",
   "outputs": [
    {
     "data": {
      "text/plain": "array(['닭대가리급', '말단급', '상급전투원급', '오야보좌급', '오야붕급', '준오야급', '중급전투원급',\n       '피라미급', '하급전투원급'], dtype=object)"
     },
     "execution_count": 61,
     "metadata": {},
     "output_type": "execute_result"
    }
   ],
   "source": [
    "encoder.classes_"
   ],
   "metadata": {
    "collapsed": false,
    "ExecuteTime": {
     "end_time": "2024-04-04T23:56:40.360319100Z",
     "start_time": "2024-04-04T23:56:40.309634700Z"
    }
   },
   "id": "10f253eedd66b1f2",
   "execution_count": 61
  },
  {
   "cell_type": "code",
   "outputs": [
    {
     "data": {
      "text/plain": "        회차     시간   인물                                                 대사  서열\n0        1    0~5  김두한                                     가마에 불을 지피신다구요    4\n1        1    0~5  김두한                           열심히 하시는 모습이 아주 좋아 보이십니다    4\n2        1    0~5  김두한                               한동안 이 제 별장이 비어있었습니다    4\n3        1    0~5  김두한  더는 나랏일하기가 어렵게 됐습니다 군사독잰 계속되고 민주주의는 멀었습니다 무식한 이...   4\n4        1    0~5  김두한            이 물러나기는 해야겠는데 그냥 그만 둔다는 것도 체면이 안 서고 해서…   4\n...    ...    ...  ...                                                ...  ..\n15436  124  50~55  조일환               명심하고 있습니다 늘 큰형님의 가르침을 가슴에 품고 살고 있습니다   0\n15437  124  55~60  조일환                                예 큰형님 영원히 그렇게 살겠습니다   0\n15438  124  55~60  조일환                                              예 큰형님   0\n15439  124  55~60  조일환                                           괜찮으시겠습니까   0\n15440  124  55~60  조일환                                     내일 또 모시러 오겠습니다   0\n\n[15441 rows x 5 columns]",
      "text/html": "<div>\n<style scoped>\n    .dataframe tbody tr th:only-of-type {\n        vertical-align: middle;\n    }\n\n    .dataframe tbody tr th {\n        vertical-align: top;\n    }\n\n    .dataframe thead th {\n        text-align: right;\n    }\n</style>\n<table border=\"1\" class=\"dataframe\">\n  <thead>\n    <tr style=\"text-align: right;\">\n      <th></th>\n      <th>회차</th>\n      <th>시간</th>\n      <th>인물</th>\n      <th>대사</th>\n      <th>서열</th>\n    </tr>\n  </thead>\n  <tbody>\n    <tr>\n      <th>0</th>\n      <td>1</td>\n      <td>0~5</td>\n      <td>김두한</td>\n      <td>가마에 불을 지피신다구요</td>\n      <td>4</td>\n    </tr>\n    <tr>\n      <th>1</th>\n      <td>1</td>\n      <td>0~5</td>\n      <td>김두한</td>\n      <td>열심히 하시는 모습이 아주 좋아 보이십니다</td>\n      <td>4</td>\n    </tr>\n    <tr>\n      <th>2</th>\n      <td>1</td>\n      <td>0~5</td>\n      <td>김두한</td>\n      <td>한동안 이 제 별장이 비어있었습니다</td>\n      <td>4</td>\n    </tr>\n    <tr>\n      <th>3</th>\n      <td>1</td>\n      <td>0~5</td>\n      <td>김두한</td>\n      <td>더는 나랏일하기가 어렵게 됐습니다 군사독잰 계속되고 민주주의는 멀었습니다 무식한 이...</td>\n      <td>4</td>\n    </tr>\n    <tr>\n      <th>4</th>\n      <td>1</td>\n      <td>0~5</td>\n      <td>김두한</td>\n      <td>이 물러나기는 해야겠는데 그냥 그만 둔다는 것도 체면이 안 서고 해서…</td>\n      <td>4</td>\n    </tr>\n    <tr>\n      <th>...</th>\n      <td>...</td>\n      <td>...</td>\n      <td>...</td>\n      <td>...</td>\n      <td>...</td>\n    </tr>\n    <tr>\n      <th>15436</th>\n      <td>124</td>\n      <td>50~55</td>\n      <td>조일환</td>\n      <td>명심하고 있습니다 늘 큰형님의 가르침을 가슴에 품고 살고 있습니다</td>\n      <td>0</td>\n    </tr>\n    <tr>\n      <th>15437</th>\n      <td>124</td>\n      <td>55~60</td>\n      <td>조일환</td>\n      <td>예 큰형님 영원히 그렇게 살겠습니다</td>\n      <td>0</td>\n    </tr>\n    <tr>\n      <th>15438</th>\n      <td>124</td>\n      <td>55~60</td>\n      <td>조일환</td>\n      <td>예 큰형님</td>\n      <td>0</td>\n    </tr>\n    <tr>\n      <th>15439</th>\n      <td>124</td>\n      <td>55~60</td>\n      <td>조일환</td>\n      <td>괜찮으시겠습니까</td>\n      <td>0</td>\n    </tr>\n    <tr>\n      <th>15440</th>\n      <td>124</td>\n      <td>55~60</td>\n      <td>조일환</td>\n      <td>내일 또 모시러 오겠습니다</td>\n      <td>0</td>\n    </tr>\n  </tbody>\n</table>\n<p>15441 rows × 5 columns</p>\n</div>"
     },
     "execution_count": 62,
     "metadata": {},
     "output_type": "execute_result"
    }
   ],
   "source": [
    "df"
   ],
   "metadata": {
    "collapsed": false,
    "ExecuteTime": {
     "end_time": "2024-04-04T23:56:40.392469600Z",
     "start_time": "2024-04-04T23:56:40.323218300Z"
    }
   },
   "id": "9ee551f19440ba41",
   "execution_count": 62
  },
  {
   "cell_type": "code",
   "outputs": [],
   "source": [
    "# from sklearn.preprocessing import LabelEncoder\n",
    "# encoder = LabelEncoder()\n",
    "# encoder.fit(label)\n",
    "# label = encoder.transform(label)\n",
    "# df[\"전투력\"]=label\n",
    "# df[\"전투력\"].unique()"
   ],
   "metadata": {
    "collapsed": false,
    "ExecuteTime": {
     "end_time": "2024-04-04T23:56:40.409100200Z",
     "start_time": "2024-04-04T23:56:40.355393500Z"
    }
   },
   "id": "567090df257a4880",
   "execution_count": 63
  },
  {
   "cell_type": "code",
   "outputs": [],
   "source": [
    "from torch.utils.data import Dataset, DataLoader\n",
    "\n",
    "class CustomDataset(Dataset):\n",
    "    def __init__(self, corpus):\n",
    "        nsmcDF = pd.DataFrame(corpus).fillna('')\n",
    "\n",
    "        x_data = nsmcDF['대사'].values\n",
    "        self.x_data = x_data\n",
    "        self.y_data = nsmcDF['서열'].values\n",
    "\n",
    "    def __len__(self):\n",
    "        return len(self.x_data)\n",
    "\n",
    "    def __getitem__(self, idx):\n",
    "        x = self.x_data[idx]\n",
    "        y = self.y_data[idx]\n",
    "        return y, x"
   ],
   "metadata": {
    "collapsed": false,
    "ExecuteTime": {
     "end_time": "2024-04-04T23:56:40.435589500Z",
     "start_time": "2024-04-04T23:56:40.378417200Z"
    }
   },
   "id": "cf2df7ee57ee3f0b",
   "execution_count": 64
  },
  {
   "cell_type": "code",
   "outputs": [],
   "source": [
    "trainDS = CustomDataset(df)"
   ],
   "metadata": {
    "collapsed": false,
    "ExecuteTime": {
     "end_time": "2024-04-04T23:56:40.478236300Z",
     "start_time": "2024-04-04T23:56:40.391361200Z"
    }
   },
   "id": "7824f563bdbf50f1",
   "execution_count": 65
  },
  {
   "cell_type": "code",
   "outputs": [],
   "source": [
    "### ===> 모듈 로딩\n",
    "from konlpy.tag import Komoran\n",
    "from torchtext.vocab import build_vocab_from_iterator"
   ],
   "metadata": {
    "collapsed": false,
    "ExecuteTime": {
     "end_time": "2024-04-04T23:56:40.537668700Z",
     "start_time": "2024-04-04T23:56:40.417960900Z"
    }
   },
   "id": "2fce37aacaa99a73",
   "execution_count": 66
  },
  {
   "cell_type": "code",
   "outputs": [],
   "source": [
    "### ===> 토큰관련 특별 문자\n",
    "UNK = '<UNK>'\n",
    "PAD = '<PAD>'"
   ],
   "metadata": {
    "collapsed": false,
    "ExecuteTime": {
     "end_time": "2024-04-04T23:56:40.539798600Z",
     "start_time": "2024-04-04T23:56:40.433274900Z"
    }
   },
   "id": "41f88d6540deaead",
   "execution_count": 67
  },
  {
   "cell_type": "code",
   "outputs": [],
   "source": [
    "### 토큰화 인스턴스 생성\n",
    "tokenizer = Komoran()"
   ],
   "metadata": {
    "collapsed": false,
    "ExecuteTime": {
     "end_time": "2024-04-04T23:56:42.169081700Z",
     "start_time": "2024-04-04T23:56:40.447593700Z"
    }
   },
   "id": "7c858037bda312d7",
   "execution_count": 68
  },
  {
   "cell_type": "code",
   "outputs": [],
   "source": [
    "def yield_tokens(data_iter):\n",
    "    for label, text in data_iter:\n",
    "        yield tokenizer.morphs(text)"
   ],
   "metadata": {
    "collapsed": false,
    "ExecuteTime": {
     "end_time": "2024-04-04T23:56:42.191651900Z",
     "start_time": "2024-04-04T23:56:42.172975500Z"
    }
   },
   "id": "a52f65ac3efce5a3",
   "execution_count": 69
  },
  {
   "cell_type": "code",
   "outputs": [],
   "source": [
    "### ===> 토큰화 및 단어/어휘 사전 생성\n",
    "VOCAB = build_vocab_from_iterator(\n",
    "    yield_tokens(trainDS),\n",
    "    min_freq=2,\n",
    "    specials= [PAD, UNK],\n",
    "    special_first=True\n",
    ")\n",
    "\n",
    "### <UNK> 인덱스 설정\n",
    "VOCAB.set_default_index(VOCAB[UNK])"
   ],
   "metadata": {
    "collapsed": false,
    "ExecuteTime": {
     "end_time": "2024-04-04T23:56:47.553698Z",
     "start_time": "2024-04-04T23:56:42.188506800Z"
    }
   },
   "id": "ba45ee9fc248d0ad",
   "execution_count": 70
  },
  {
   "cell_type": "code",
   "outputs": [],
   "source": [
    "trainDS = CustomDataset(df)"
   ],
   "metadata": {
    "collapsed": false,
    "ExecuteTime": {
     "end_time": "2024-04-04T23:56:47.580227200Z",
     "start_time": "2024-04-04T23:56:47.556753300Z"
    }
   },
   "id": "57f6bcf8bf05dc42",
   "execution_count": 71
  },
  {
   "cell_type": "code",
   "outputs": [],
   "source": [
    "### ===> 모듈 로딩\n",
    "from konlpy.tag import Komoran\n",
    "from torchtext.vocab import build_vocab_from_iterator"
   ],
   "metadata": {
    "collapsed": false,
    "ExecuteTime": {
     "end_time": "2024-04-04T23:56:47.605321100Z",
     "start_time": "2024-04-04T23:56:47.574578400Z"
    }
   },
   "id": "c6d86ade1a27c16c",
   "execution_count": 72
  },
  {
   "cell_type": "code",
   "outputs": [],
   "source": [
    "### ===> 토큰관련 특별 문자\n",
    "UNK = '<UNK>'\n",
    "PAD = '<PAD>'"
   ],
   "metadata": {
    "collapsed": false,
    "ExecuteTime": {
     "end_time": "2024-04-04T23:56:47.607902600Z",
     "start_time": "2024-04-04T23:56:47.588358600Z"
    }
   },
   "id": "9af3bd2488dac226",
   "execution_count": 73
  },
  {
   "cell_type": "code",
   "outputs": [],
   "source": [
    "### 토큰화 인스턴스 생성\n",
    "tokenizer = Komoran()"
   ],
   "metadata": {
    "collapsed": false,
    "ExecuteTime": {
     "end_time": "2024-04-04T23:56:48.615353600Z",
     "start_time": "2024-04-04T23:56:47.602914400Z"
    }
   },
   "id": "169af451acb2a5c8",
   "execution_count": 74
  },
  {
   "cell_type": "code",
   "outputs": [],
   "source": [
    "def yield_tokens(data_iter):\n",
    "    for label, text in data_iter:\n",
    "        yield tokenizer.morphs(text)"
   ],
   "metadata": {
    "collapsed": false,
    "ExecuteTime": {
     "end_time": "2024-04-04T23:56:48.632866500Z",
     "start_time": "2024-04-04T23:56:48.619815600Z"
    }
   },
   "id": "276410f059591a6b",
   "execution_count": 75
  },
  {
   "cell_type": "code",
   "outputs": [],
   "source": [
    "### ===> 토큰화 및 단어/어휘 사전 생성\n",
    "VOCAB = build_vocab_from_iterator(\n",
    "    yield_tokens(trainDS),\n",
    "    min_freq=2,\n",
    "    specials= [PAD, UNK],\n",
    "    special_first=True\n",
    ")\n",
    "\n",
    "### <UNK> 인덱스 설정\n",
    "VOCAB.set_default_index(VOCAB[UNK])"
   ],
   "metadata": {
    "collapsed": false,
    "ExecuteTime": {
     "end_time": "2024-04-04T23:56:54.425932900Z",
     "start_time": "2024-04-04T23:56:48.634986Z"
    }
   },
   "id": "9e831e5a616f61a1",
   "execution_count": 76
  },
  {
   "cell_type": "code",
   "outputs": [],
   "source": [
    "### ===> 텍스트 >>>> 정수 인코딩\n",
    "text_pipeline = lambda x: VOCAB(tokenizer.morphs(x))\n",
    "\n",
    "### ===> 레이틀 >>> 정수 인코딩 (0~3)\n",
    "label_pipeline = lambda x: int(x)"
   ],
   "metadata": {
    "collapsed": false,
    "ExecuteTime": {
     "end_time": "2024-04-04T23:56:54.448907600Z",
     "start_time": "2024-04-04T23:56:54.430330700Z"
    }
   },
   "id": "dc77714dc58eb0a2",
   "execution_count": 77
  },
  {
   "cell_type": "code",
   "outputs": [],
   "source": [
    "### 인코딩 : 문자 >>>> 숫자로 변환\n",
    "token_to_id ={ label : id  for label, id in VOCAB.get_stoi().items()}\n",
    "\n",
    "### 디코딩 : 숫자 >>>> 문자로 변환\n",
    "id_to_token ={ id : label  for label, id in VOCAB.get_stoi().items()}\n"
   ],
   "metadata": {
    "collapsed": false,
    "ExecuteTime": {
     "end_time": "2024-04-04T23:56:54.471664900Z",
     "start_time": "2024-04-04T23:56:54.460052600Z"
    }
   },
   "id": "acc6891b9d023628",
   "execution_count": 78
  },
  {
   "cell_type": "code",
   "outputs": [],
   "source": [
    "### ===> 모듈로딩\n",
    "from torch.utils.data import DataLoader\n",
    "from torch.utils.data.dataset import random_split\n",
    "from torch.nn.utils.rnn import pad_sequence\n",
    "import torch "
   ],
   "metadata": {
    "collapsed": false,
    "ExecuteTime": {
     "end_time": "2024-04-04T23:56:54.489447400Z",
     "start_time": "2024-04-04T23:56:54.468120500Z"
    }
   },
   "id": "ebb7bd3ac990c1ed",
   "execution_count": 79
  },
  {
   "cell_type": "code",
   "outputs": [],
   "source": [
    "### ===> 실행 디바이스 설정\n",
    "device = torch.device(\"cuda\" if torch.cuda.is_available() else \"cpu\")"
   ],
   "metadata": {
    "collapsed": false,
    "ExecuteTime": {
     "end_time": "2024-04-04T23:56:54.514688Z",
     "start_time": "2024-04-04T23:56:54.485171100Z"
    }
   },
   "id": "708990f33f0b65c7",
   "execution_count": 80
  },
  {
   "cell_type": "code",
   "outputs": [],
   "source": [
    "# 배치크기만큼 데이터셋 반환 함수\n",
    "def collate_batch(batch):\n",
    "    # 배치크기 만큼의 라벨, 텍스트, 오프셋 값 저장 변수\n",
    "    label_list, text_list, offsets = [], [], [0]\n",
    "    \n",
    "    # 1개씩 뉴스기사, 라벨 추출해서 저장\n",
    "    for (_label, _text) in batch:\n",
    "        # 라벨 인코딩 후 저장\n",
    "        label_list.append(label_pipeline(_label))\n",
    "        \n",
    "        # 텍스트 인코딩 후 저장\n",
    "        processed_text = torch.tensor(text_pipeline(_text), dtype=torch.int64)\n",
    "        text_list.append(processed_text)\n",
    "        \n",
    "        # 텍스트 offset 즉, 텍스트 크기/길이 저장 \n",
    "        offsets.append(processed_text.size(0))\n",
    "    \n",
    "    # 텐서화 진행 \n",
    "    label_list = torch.tensor(label_list, dtype=torch.int64)\n",
    "    offsets = torch.tensor(offsets[:-1]).cumsum(dim=0)\n",
    "    text_list = torch.cat(text_list)\n",
    "    \n",
    "    return label_list.to(device), text_list.to(device), offsets.to(device)"
   ],
   "metadata": {
    "collapsed": false,
    "ExecuteTime": {
     "end_time": "2024-04-04T23:56:54.517798800Z",
     "start_time": "2024-04-04T23:56:54.502252200Z"
    }
   },
   "id": "492701bdc2fbc4a5",
   "execution_count": 81
  },
  {
   "cell_type": "code",
   "outputs": [
    {
     "name": "stdout",
     "output_type": "stream",
     "text": [
      " num_train :14668\n",
      " len(split_trainDS) :14668\n",
      " len(split_validDS) :773\n"
     ]
    }
   ],
   "source": [
    "### ===> 학습용, 검증용, 테스트용 DataSet 준비 \n",
    "BATCH_SIZE = 32\n",
    "\n",
    "### 학습용, 검증용, 테스트용 Dataset, DataLoader 준비\n",
    "num_train = int(len(trainDS) * 0.95)\n",
    "print(f' num_train :{num_train}')\n",
    "\n",
    "split_trainDS, split_validDS= random_split( trainDS, [num_train, len(trainDS) - num_train])\n",
    "print(f' len(split_trainDS) :{len(split_trainDS)}')\n",
    "print(f' len(split_validDS) :{len(split_validDS)}')\n",
    "\n",
    "trainDL = DataLoader( split_trainDS, batch_size=BATCH_SIZE, shuffle=True, collate_fn=collate_batch )\n",
    "validDL = DataLoader( split_validDS, batch_size=BATCH_SIZE, shuffle=True, collate_fn=collate_batch )"
   ],
   "metadata": {
    "collapsed": false,
    "ExecuteTime": {
     "end_time": "2024-04-04T23:56:54.570451900Z",
     "start_time": "2024-04-04T23:56:54.514688Z"
    }
   },
   "id": "425a83589db84c4e",
   "execution_count": 82
  },
  {
   "cell_type": "code",
   "outputs": [
    {
     "data": {
      "text/plain": "<__main__.CustomDataset at 0x18ecb396b50>"
     },
     "execution_count": 83,
     "metadata": {},
     "output_type": "execute_result"
    }
   ],
   "source": [
    "trainDS"
   ],
   "metadata": {
    "collapsed": false,
    "ExecuteTime": {
     "end_time": "2024-04-04T23:56:54.575492Z",
     "start_time": "2024-04-04T23:56:54.529426100Z"
    }
   },
   "id": "b1dc474f3e5683d6",
   "execution_count": 83
  },
  {
   "cell_type": "code",
   "outputs": [
    {
     "name": "stdout",
     "output_type": "stream",
     "text": [
      " len(trainDL) :14688\n",
      " len(validDL) :800\n"
     ]
    }
   ],
   "source": [
    "print(f' len(trainDL) :{len(trainDL)*BATCH_SIZE}')\n",
    "print(f' len(validDL) :{len(validDL)*BATCH_SIZE}')"
   ],
   "metadata": {
    "collapsed": false,
    "ExecuteTime": {
     "end_time": "2024-04-04T23:56:54.589943100Z",
     "start_time": "2024-04-04T23:56:54.542862400Z"
    }
   },
   "id": "532c0c3938ee1a4",
   "execution_count": 84
  },
  {
   "cell_type": "code",
   "outputs": [
    {
     "name": "stdout",
     "output_type": "stream",
     "text": [
      "(tensor([3, 6, 8, 4, 3, 8, 1, 2, 3, 4, 8, 8, 4, 4, 5, 4, 4, 8, 3, 5, 6, 6, 6, 6,\n",
      "        1, 5, 5, 4, 6, 5, 3, 4]), tensor([  36,   27,    5,   44,   29,   12,   30,   55,  753,  282,    2,  716,\n",
      "          62,   13,  172,   30,  134,   13,    6,   23,  933,    4,  328,   63,\n",
      "          15,   26,    6,  174,  933,   22,   50,  450,   77,   30,   22,   30,\n",
      "          22,   30,   22,    1,  933,  403,   30,  508,  229,  121,   57,    3,\n",
      "         236, 4425,   78,  504, 2186,   31,   11,   17,   98, 1043,  229,  177,\n",
      "           5,   46,   18,  116,  329,   77,  755,  433,    5,  632,   30,   29,\n",
      "          16,   24,   54,   25,    7,  171,   14,    3,    5,  768,    8,  160,\n",
      "          54,   34,  116,  286,   48,  388,  323,    3,   32,   38,   34,   17,\n",
      "         392, 2056, 1003,   11,  160,   24,  187,  232,  403,  287,    3,    8,\n",
      "          84,   94,   77,   99,   22,    4,   60,   17,  603,  593,  286, 2726,\n",
      "         329,  111,    6, 5223,  214,    8,   20,   30,  322,   30,   34,   22,\n",
      "          50, 4193,   13,  476,   28,  223,   44,  126, 2772,    3,    8,    1,\n",
      "        1680, 3150,    6,   49,    7,  528,    2,   41,   25,  181,  463,    3,\n",
      "         200,   54,   66,    1,   12,   16,    2,   41,  965,   36,   27,    2,\n",
      "         230,  939,   45, 4374,   10, 4481, 1277,  181,    3,  134, 2123,  111,\n",
      "         121,    6,  325,  111,   27,   89,   36,    9,   35,  313,   75,   11,\n",
      "         124,   39,    6, 4880,    3,   12,   35,   58,    8,   54,   25,    4,\n",
      "         154, 1279,  230,    2,  281,  208,    2,  132, 1567,   31,   54,    3,\n",
      "          18,  149,   87,   32,   96,  110,  135,   31, 3557,    9,   19,    4,\n",
      "           5,   76,   43,    8,  285,   21,   27, 2179,   57,  118,  232,    9,\n",
      "           6,   32,   38,    2, 5044,   21,   99,  147,   11,    2,  314,    3,\n",
      "         298,  108,  102,   32,   38,  137,   11,    2,   49,   96,  115,    6,\n",
      "         111,    2,   65,  685,   58, 2686,   10,    3,    5,   39,  191,   11,\n",
      "          73,   81,   12,   25,   17,    4,  108,    2,   41,  108,    2,  490,\n",
      "           4,  695,  484,  176,  695,  112,  237,  639,    3,   61,   77,  375,\n",
      "          44,  103,    9,  289,    5,   57,   19,  149,  257,  128,   62,   33,\n",
      "          95, 1321,   10,  838,   90, 2521,  101,  367,    2,   17,   26,   29,\n",
      "         586,   93,    8,  507,   31,  808,    8,   42,   79,   18,   98,  364,\n",
      "          16,   15,   49,   17,    9,    5,   34,   28,   86,   76, 1199,   39,\n",
      "         826,    2,  169,  736,    4,   60,   90,    3,   22,   50,   32,   88,\n",
      "        4342, 1737,  201,  366,   10,  130,    4,   35,  987,   21,  126,  329,\n",
      "          30,  821,   57,  269,    2,  554,   35,  134,   13,  408,   51,   29,\n",
      "         230,   78,  103,   12,  151,   63,   26,   24,  954,   19,  149,   54,\n",
      "          25,    7,   20,   30,   67,  710,  854,  336,   52,  195,   28,  141,\n",
      "         114,   48,    3, 1382,  558,    3,    8,   40,   37,    2,  350,  272,\n",
      "           9,  519,    8,  139,    2,   95,  120,  117, 2783,  528,   15,   49,\n",
      "          91, 2124,    2,   25,   53,  881,  271, 3231,    6,  354,   17,  148,\n",
      "          12, 5146,   37, 1102,  215,   21,    7,  227,   11,    2, 1107,   49,\n",
      "           7,   42,   66, 1065,   25,    9,   19,   23,  157,  924, 2109,   45,\n",
      "        1001,  150,    5,   43,  995,   45,  154,   24,  404,  872,  908, 1575,\n",
      "           2,   23,   23,  858,    4, 1921,  175,   93,  205,   12,   16,   37,\n",
      "          80,  117,    9,  266,    4,  524,  122,   15,  182,   50,    7,   12,\n",
      "          87,   10,   42,   79,   61,  865,  724,   78,  673,    3,   82,    3,\n",
      "          14,   42,   24,   19,    9, 3200,   21,    8,  211,   12, 1311,  150,\n",
      "         543,   24,   19,   22,   50,  363,  648, 1394, 1064,   13,    2,   12,\n",
      "          33,   67]), tensor([  0,   3,  13,  42,  65,  70,  89,  94, 105, 117, 120, 135, 139, 164,\n",
      "        204, 228, 257, 282, 293, 318, 341, 345, 369, 401, 408, 410, 447, 487,\n",
      "        492, 497, 534, 536]))\n"
     ]
    }
   ],
   "source": [
    "for i in trainDL:\n",
    "    print(i)\n",
    "    break"
   ],
   "metadata": {
    "collapsed": false,
    "ExecuteTime": {
     "end_time": "2024-04-04T23:56:54.666613800Z",
     "start_time": "2024-04-04T23:56:54.555961900Z"
    }
   },
   "id": "9f0d02037789f52b",
   "execution_count": 85
  },
  {
   "cell_type": "code",
   "outputs": [],
   "source": [
    "import torch.nn as nn\n",
    "\n",
    "# 은닉층 : Linear - 4개 클래스 분류 \n",
    "class TextModel(nn.Module):\n",
    "    def __init__(self, VOCAB_SIZE, EMBEDD_DIM, HIDDEN_SIZE, NUM_CLASS):\n",
    "        super(TextModel, self).__init__()\n",
    "        # 모델 구성 층 정의 \n",
    "        self.embedding = nn.EmbeddingBag(VOCAB_SIZE, EMBEDD_DIM, sparse=False)\n",
    "        self.fc = nn.Linear(EMBEDD_DIM, NUM_CLASS)\n",
    "        self.init_weights()\n",
    "    \n",
    "    # 가중치 초기화\n",
    "    def init_weights(self):\n",
    "        initrange = 0.5\n",
    "        self.embedding.weight.data.uniform_(-initrange, initrange)\n",
    "        self.fc.weight.data.uniform_(-initrange, initrange)\n",
    "        self.fc.bias.data.zero_()\n",
    "    \n",
    "    # 순방향 학습 진행\n",
    "    def forward(self, text, offsets):\n",
    "        embedded = self.embedding(text, offsets)\n",
    "        return self.fc(embedded)"
   ],
   "metadata": {
    "collapsed": false,
    "ExecuteTime": {
     "end_time": "2024-04-04T23:56:54.683892200Z",
     "start_time": "2024-04-04T23:56:54.592229400Z"
    }
   },
   "id": "1afeef4c6f9954fb",
   "execution_count": 86
  },
  {
   "cell_type": "code",
   "outputs": [],
   "source": [
    "# 학습 관련 파라미터와 인스턴스 \n",
    "HIDDEN_SIZE=3\n",
    "EMBEDD_DIM=64\n",
    "VOCAB_SIZE = len(VOCAB)\n",
    "NUM_CLASS = 9\n",
    "EPOCHS = 20\n",
    "LR = 5\n",
    "BATCH_SIZE = 64"
   ],
   "metadata": {
    "collapsed": false,
    "ExecuteTime": {
     "end_time": "2024-04-04T23:56:54.722270500Z",
     "start_time": "2024-04-04T23:56:54.606740200Z"
    }
   },
   "id": "79b5ede1804f6927",
   "execution_count": 87
  },
  {
   "cell_type": "code",
   "outputs": [],
   "source": [
    "# 학습 관련 인스턴스\n",
    "import torch.optim as optim\n",
    "MODEL = TextModel(VOCAB_SIZE, EMBEDD_DIM, HIDDEN_SIZE, NUM_CLASS).to(device)\n",
    "CRITERION = nn.CrossEntropyLoss()\n",
    "OPTIMIZER = optim.AdamW(MODEL.parameters(), lr=LR)\n",
    "SCHEDULER = optim.lr_scheduler.StepLR(OPTIMIZER, 1.0, gamma=0.1) # learning rate를 줄이는 용도 "
   ],
   "metadata": {
    "collapsed": false,
    "ExecuteTime": {
     "end_time": "2024-04-04T23:56:54.723350400Z",
     "start_time": "2024-04-04T23:56:54.622116300Z"
    }
   },
   "id": "5f084c459c26a39f",
   "execution_count": 88
  },
  {
   "cell_type": "code",
   "outputs": [],
   "source": [
    "\n",
    "# 학습 관련 함수 정의 \n",
    "\n",
    "\n",
    "def train(model, dataloader, optimizer, criterion, epoch):\n",
    "    model.train()\n",
    "\n",
    "    # 학습 평가 관련 변수들\n",
    "    total_acc, total_count = 0, 0\n",
    "    log_interval = 300\n",
    "\n",
    "    for idx, (label, text, offsets) in enumerate(dataloader):\n",
    "        predicted_label = model(text, offsets)\n",
    "        optimizer.zero_grad()\n",
    "        loss = criterion(predicted_label, label)\n",
    "        loss.backward()\n",
    "        torch.nn.utils.clip_grad_norm_(model.parameters(), 0.1)\n",
    "        optimizer.step()\n",
    "\n",
    "        # 배치 학습 평가\n",
    "        total_acc += (predicted_label.argmax(1) == label).sum().item()\n",
    "        total_count += label.size(0)\n",
    "\n",
    "        if idx % log_interval == 0 and idx > 0:\n",
    "            print(f\"epoch : {epoch} batch : {idx} loss : {loss.item()}\")\n",
    "            print(f\"Train_Accuracy : {total_acc / total_count}\")\n",
    "            total_acc, total_count = 0, 0\n",
    "\n",
    "            break\n"
   ],
   "metadata": {
    "collapsed": false,
    "ExecuteTime": {
     "end_time": "2024-04-04T23:56:54.726417Z",
     "start_time": "2024-04-04T23:56:54.641319500Z"
    }
   },
   "id": "fd44be47480ea020",
   "execution_count": 89
  },
  {
   "cell_type": "code",
   "outputs": [],
   "source": [
    "def evaluate(model, dataloader, criterion):\n",
    "    model.eval()\n",
    "    \n",
    "    total_acc, total_count = 0,0\n",
    "    \n",
    "    with torch.no_grad():\n",
    "        for idx, (label, text, offsets) in enumerate(dataloader):\n",
    "            predicted_label = model(text, offsets)\n",
    "            loss = criterion(predicted_label, label)\n",
    "            total_acc += (predicted_label.argmax(1) == label).sum().item()\n",
    "            total_count += label.size(0)\n",
    "            \n",
    "    return total_acc/total_count"
   ],
   "metadata": {
    "collapsed": false,
    "ExecuteTime": {
     "end_time": "2024-04-04T23:56:54.743606800Z",
     "start_time": "2024-04-04T23:56:54.656048800Z"
    }
   },
   "id": "c0ca994ccb667521",
   "execution_count": 90
  },
  {
   "cell_type": "code",
   "outputs": [],
   "source": [
    "def predict(model, text, text_pipeline):\n",
    "    with torch.no_grad():\n",
    "        text = torch.tensor(text_pipeline(text), dtype=torch.int64).to(device)\n",
    "        # text = text.unsqueeze(0)\n",
    "        offsets = torch.tensor([0]).to(device)\n",
    "        predicted_label = model(text, offsets)\n",
    "        return predicted_label.argmax(1).item() + 1"
   ],
   "metadata": {
    "collapsed": false,
    "ExecuteTime": {
     "end_time": "2024-04-04T23:56:54.746784100Z",
     "start_time": "2024-04-04T23:56:54.669856200Z"
    }
   },
   "id": "d964e9c37d3f7066",
   "execution_count": 91
  },
  {
   "cell_type": "code",
   "outputs": [
    {
     "name": "stdout",
     "output_type": "stream",
     "text": [
      "epoch : 1 batch : 300 loss : 194.88204956054688\n",
      "Train_Accuracy : 0.2288205980066445\n",
      "epoch : 1 Valid_Accuracy : 0.2794307891332471\n",
      "epoch : 2 batch : 300 loss : 9.729482650756836\n",
      "Train_Accuracy : 0.3155107973421927\n",
      "epoch : 2 Valid_Accuracy : 0.33247089262613194\n",
      "epoch : 3 batch : 300 loss : 1.9843506813049316\n",
      "Train_Accuracy : 0.4804817275747508\n",
      "epoch : 3 Valid_Accuracy : 0.4579560155239327\n",
      "epoch : 4 batch : 300 loss : 0.9559847712516785\n",
      "Train_Accuracy : 0.606312292358804\n",
      "epoch : 4 Valid_Accuracy : 0.5148771021992238\n",
      "epoch : 5 batch : 300 loss : 0.9879356026649475\n",
      "Train_Accuracy : 0.6345514950166113\n",
      "epoch : 5 Valid_Accuracy : 0.51875808538163\n",
      "epoch : 6 batch : 300 loss : 1.1832979917526245\n",
      "Train_Accuracy : 0.6414036544850499\n",
      "epoch : 6 Valid_Accuracy : 0.51875808538163\n",
      "epoch : 7 batch : 300 loss : 1.2904080152511597\n",
      "Train_Accuracy : 0.6401578073089701\n",
      "epoch : 7 Valid_Accuracy : 0.51875808538163\n",
      "epoch : 8 batch : 300 loss : 0.9217106699943542\n",
      "Train_Accuracy : 0.647217607973422\n",
      "epoch : 8 Valid_Accuracy : 0.51875808538163\n",
      "epoch : 9 batch : 300 loss : 1.20350980758667\n",
      "Train_Accuracy : 0.6407807308970099\n",
      "epoch : 9 Valid_Accuracy : 0.51875808538163\n",
      "epoch : 10 batch : 300 loss : 1.144803762435913\n",
      "Train_Accuracy : 0.6450373754152824\n",
      "epoch : 10 Valid_Accuracy : 0.51875808538163\n",
      "epoch : 11 batch : 300 loss : 2.7732737064361572\n",
      "Train_Accuracy : 0.6471137873754153\n",
      "epoch : 11 Valid_Accuracy : 0.51875808538163\n",
      "epoch : 12 batch : 300 loss : 0.9615415930747986\n",
      "Train_Accuracy : 0.6426495016611296\n",
      "epoch : 12 Valid_Accuracy : 0.51875808538163\n",
      "epoch : 13 batch : 300 loss : 0.8873991370201111\n",
      "Train_Accuracy : 0.6456602990033222\n",
      "epoch : 13 Valid_Accuracy : 0.51875808538163\n",
      "epoch : 14 batch : 300 loss : 1.554377555847168\n",
      "Train_Accuracy : 0.643999169435216\n",
      "epoch : 14 Valid_Accuracy : 0.51875808538163\n",
      "epoch : 15 batch : 300 loss : 0.9685916304588318\n",
      "Train_Accuracy : 0.6479443521594684\n",
      "epoch : 15 Valid_Accuracy : 0.51875808538163\n",
      "epoch : 16 batch : 300 loss : 1.3720093965530396\n",
      "Train_Accuracy : 0.642234219269103\n",
      "epoch : 16 Valid_Accuracy : 0.51875808538163\n",
      "epoch : 17 batch : 300 loss : 1.4983538389205933\n",
      "Train_Accuracy : 0.6428571428571429\n",
      "epoch : 17 Valid_Accuracy : 0.51875808538163\n",
      "epoch : 18 batch : 300 loss : 1.1445828676223755\n",
      "Train_Accuracy : 0.6458679401993356\n",
      "epoch : 18 Valid_Accuracy : 0.51875808538163\n",
      "epoch : 19 batch : 300 loss : 2.149850368499756\n",
      "Train_Accuracy : 0.6443106312292359\n",
      "epoch : 19 Valid_Accuracy : 0.51875808538163\n",
      "epoch : 20 batch : 300 loss : 1.5377991199493408\n",
      "Train_Accuracy : 0.6438953488372093\n",
      "epoch : 20 Valid_Accuracy : 0.51875808538163\n"
     ]
    }
   ],
   "source": [
    "# 학습 진행\n",
    "for epoch in range(1, EPOCHS+1):\n",
    "    train(MODEL, trainDL, OPTIMIZER, CRITERION, epoch)\n",
    "    accu_val = evaluate(MODEL, validDL, CRITERION)\n",
    "    print(f\"epoch : {epoch} Valid_Accuracy : {accu_val}\")\n",
    "    SCHEDULER.step()"
   ],
   "metadata": {
    "collapsed": false,
    "ExecuteTime": {
     "end_time": "2024-04-05T00:01:03.856290700Z",
     "start_time": "2024-04-04T23:56:54.688265700Z"
    }
   },
   "id": "a03faf1327e2c87e",
   "execution_count": 92
  },
  {
   "cell_type": "markdown",
   "source": [
    "[모델 저장]"
   ],
   "metadata": {
    "collapsed": false
   },
   "id": "5736471133c79311"
  },
  {
   "cell_type": "code",
   "outputs": [],
   "source": [
    "torch.save(MODEL, \"YAINCLASSIFICATION.pth\")"
   ],
   "metadata": {
    "collapsed": false,
    "ExecuteTime": {
     "end_time": "2024-04-05T00:01:03.893843600Z",
     "start_time": "2024-04-05T00:01:03.842425300Z"
    }
   },
   "id": "cf4a2a5b85acee3c",
   "execution_count": 93
  },
  {
   "cell_type": "code",
   "outputs": [
    {
     "name": "stdout",
     "output_type": "stream",
     "text": [
      "1\n",
      "예측된 라벨: 말단급\n"
     ]
    }
   ],
   "source": [
    "\n",
    "\n",
    "# 모델 로드\n",
    "# model = TextModel(VOCAB_SIZE, EMBEDD_DIM, HIDDEN_SIZE, NUM_CLASS)\n",
    "model = torch.load(\"YAINCLASSIFICATION.pth\")\n",
    "model.eval()\n",
    "real_class = encoder.classes_\n",
    "\n",
    "# 시연\n",
    "text = \"여러분 안심해주십시오. 서울을 끝까지 사수하겠습니다.\"\n",
    "predicted_label = predict(model, text, text_pipeline)\n",
    "print(predicted_label)\n",
    "if predicted_label==9:\n",
    "    predicted_label-=1\n",
    "print(f\"예측된 라벨: {real_class[predicted_label]}\")"
   ],
   "metadata": {
    "collapsed": false,
    "ExecuteTime": {
     "end_time": "2024-04-05T02:50:20.620427400Z",
     "start_time": "2024-04-05T02:50:20.583972500Z"
    }
   },
   "id": "aca8e5d04abf3e6b",
   "execution_count": 115
  },
  {
   "cell_type": "code",
   "outputs": [],
   "source": [],
   "metadata": {
    "collapsed": false,
    "ExecuteTime": {
     "start_time": "2024-04-05T00:01:03.902256200Z"
    }
   },
   "id": "29156c9b4af4bc44",
   "execution_count": null
  }
 ],
 "metadata": {
  "kernelspec": {
   "display_name": "Python 3",
   "language": "python",
   "name": "python3"
  },
  "language_info": {
   "codemirror_mode": {
    "name": "ipython",
    "version": 2
   },
   "file_extension": ".py",
   "mimetype": "text/x-python",
   "name": "python",
   "nbconvert_exporter": "python",
   "pygments_lexer": "ipython2",
   "version": "2.7.6"
  }
 },
 "nbformat": 4,
 "nbformat_minor": 5
}
