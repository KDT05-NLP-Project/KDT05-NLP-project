{
 "cells": [
  {
   "cell_type": "code",
   "execution_count": 18,
   "metadata": {
    "ExecuteTime": {
     "end_time": "2024-04-05T01:35:58.269230500Z",
     "start_time": "2024-04-05T01:35:58.209886Z"
    }
   },
   "outputs": [],
   "source": [
    "import pandas as pd\n",
    "import numpy as np\n",
    "import torch\n",
    "import torch.nn as nn"
   ]
  },
  {
   "cell_type": "code",
   "execution_count": 19,
   "metadata": {
    "ExecuteTime": {
     "end_time": "2024-04-05T01:36:00.549260700Z",
     "start_time": "2024-04-05T01:35:58.231220800Z"
    }
   },
   "outputs": [
    {
     "name": "stdout",
     "output_type": "stream",
     "text": [
      "<class 'pandas.core.frame.DataFrame'>\n",
      "RangeIndex: 35724 entries, 0 to 35723\n",
      "Data columns (total 4 columns):\n",
      " #   Column  Non-Null Count  Dtype \n",
      "---  ------  --------------  ----- \n",
      " 0   회차      35724 non-null  int64 \n",
      " 1   시간      35724 non-null  object\n",
      " 2   인물      35724 non-null  object\n",
      " 3   대사      35724 non-null  object\n",
      "dtypes: int64(1), object(3)\n",
      "memory usage: 1.1+ MB\n"
     ]
    }
   ],
   "source": [
    "DF = pd.read_excel('../data/야인시대 2부(51~124) 통합대본.xlsx')\n",
    "DF.info()"
   ]
  },
  {
   "cell_type": "code",
   "outputs": [
    {
     "data": {
      "text/plain": "   회차   시간    인물                                                 대사\n0  51  0~5  # 장소                            절간에 앉아있는 김두한, 불상 등 클로즈업\n1  51  0~5  # 두한                                        고민가득한 표정 줌인\n2  51  0~5    두한  해방이다. 그토록 온 세상이 염원하던 독립이 왔다. 이 독립을 위해 얼마나 많은 사...",
      "text/html": "<div>\n<style scoped>\n    .dataframe tbody tr th:only-of-type {\n        vertical-align: middle;\n    }\n\n    .dataframe tbody tr th {\n        vertical-align: top;\n    }\n\n    .dataframe thead th {\n        text-align: right;\n    }\n</style>\n<table border=\"1\" class=\"dataframe\">\n  <thead>\n    <tr style=\"text-align: right;\">\n      <th></th>\n      <th>회차</th>\n      <th>시간</th>\n      <th>인물</th>\n      <th>대사</th>\n    </tr>\n  </thead>\n  <tbody>\n    <tr>\n      <th>0</th>\n      <td>51</td>\n      <td>0~5</td>\n      <td># 장소</td>\n      <td>절간에 앉아있는 김두한, 불상 등 클로즈업</td>\n    </tr>\n    <tr>\n      <th>1</th>\n      <td>51</td>\n      <td>0~5</td>\n      <td># 두한</td>\n      <td>고민가득한 표정 줌인</td>\n    </tr>\n    <tr>\n      <th>2</th>\n      <td>51</td>\n      <td>0~5</td>\n      <td>두한</td>\n      <td>해방이다. 그토록 온 세상이 염원하던 독립이 왔다. 이 독립을 위해 얼마나 많은 사...</td>\n    </tr>\n  </tbody>\n</table>\n</div>"
     },
     "execution_count": 20,
     "metadata": {},
     "output_type": "execute_result"
    }
   ],
   "source": [
    "DF.head(3)"
   ],
   "metadata": {
    "collapsed": false,
    "ExecuteTime": {
     "end_time": "2024-04-05T01:36:00.569568100Z",
     "start_time": "2024-04-05T01:36:00.546061Z"
    }
   },
   "execution_count": 20
  },
  {
   "cell_type": "code",
   "outputs": [
    {
     "data": {
      "text/plain": "array(['두한', '51행인', '51행인 ', '치안대원', '51우미관', '김영태', '조모', '이재희', '오숙근',\n       '김이수', '임동호', '최동열', '나레이션', '승객1', '승객2', '여운형', '건준위원1', '건준위원2',\n       '장택상', '송진우', '김성수', '유진산', '조병옥', '개코', '신영균', '홍만길', '휘발유',\n       '김무옥', '문영철', '신불출', '정진영', '김천호', '김해숙', '장권', '이정재', '51요정직원',\n       '51장사장', '김관철', '박헌영', '대좌', '일본부관', '박용직', '염동진', '이화룡', '삼수',\n       '시공관직원', '황병관', '백의사1', '백의사2', '정팔', '52선동꾼', '사람들', '53공산당',\n       '백관옥', '총경', '시위대들', '이승만', '이기붕', '김구', '엄항섭', '워태커', '53경찰1',\n       '53경찰2', '53경찰3', '시라소니', '이규갑', '54판매원', '김좌진', '소년두한', '54선동꾼1',\n       '54사복경찰', '54선동꾼2', '54선동꾼3', '소년진영', '청년진영', '박기자', '55기자1',\n       '55기자2', '박용직 ', '상하이', '김후옥', '오노', '55웨이터', '사고야마 ', '55전위대',\n       '강마담', '월남민1', '월남민2', '월남민3', '56명동패', '월남민4', '전령소년', '농민1',\n       '농민2', '전매국관리', '57경찰', '이서장', '조개옥', '김형사', '맨발', '김원봉', '심영',\n       '하지', '아놀드', '페어드', '윤치영', '사고야마', '58형사', '갈치', '조중서', '김종원1',\n       '좌익간수', '좌익죄수1', '좌익죄수2', '좌익죄수3', '죄수들', '황검사', '59간수1', '59검찰총장',\n       '공산당들', '우미관패들', '59형무소장', '59간수2', '장사장', '이현상', '요정직원', '애기보살',\n       '59전위대1', '59전위대2', '달마', '60형사', '전위대A', '60우미관', '아구', '60경찰',\n       '준비대보초', '61공산당1', '61공산당2', '61공산당3', '미군정보원', '61의사', '61간호사',\n       '준비대간부', '전위대들', '두한 ', '상하이 ', '박서방', '아주머니', '정진영 ', '김천호 ',\n       '김해숙 ', '박헌영 ', '워태커 ', '미군들', '김무옥 ', '김영태 ', '김관철 ', '승려 ',\n       '유진산 ', '김후옥 ', '이기붕 ', '하지 ', '아놀드 ', '조병옥 ', '장택상 ', '장사장 ',\n       '김양', '이정재 ', '임화수 ', '조열승 ', '임화수', '62깡패1', '조열승', '62깡패2',\n       '62깡패3', '시라소니 ', '이화룡 ', '정팔 ', '황병관 ', '염동진 ', '신영균 ', '개코 ',\n       '홍만길 ', '극장직원', '전위대B', '택시기사', '곽영주', '64전위대4', '선동시민', '선동학생A',\n       '선동학생B', '영사기사', '버치', '극장대원1', '문예봉', '황철', '64미군', '64기자',\n       '극장대원2', '의사양반', '64전위대1', '64전위대2', '64전위대3', '심영어머니', '심영 ',\n       '65식당주인', '승려', '65전위대', '더치', '왕초', '진영어머니', '청년개코', '왕발', '미군의사',\n       '미군간호사', '66공산당1', '66공산당2', '공산당원들', '최형사', '67경찰1', '67의사', '금강',\n       '67공산당1', '67공산당2', '김순경', '67경찰2', '정판사원', '허성탁', '67기자1',\n       '금강부하1', '눈물', '67명동패', '시위선두', '쪽박', '멸치', '68미군', '명동패들',\n       '금강부하2', '69의사', '70우미관', '박흥식', '백낙승', '공창수', '공창수부인', '71은행원',\n       '71기자1', '71기자2', '휘발유 ', '72선동꾼', '삼청장경비', '김규식', '기자A', '72기자2',\n       '73비서', '노조위원장', '여공1', '여공2', '별장경비', '74별동대1', '74별동대2',\n       '75전위대1', '75전위대2', '75전위대3', '75전위대4', '노덕술', '미군', '이달구', '76판사',\n       '76검사', '76간수', '미군판사', '변호사', '재판방청객1', '재판방청객2', '77의사', '홍길상',\n       '미 소장', '미 부소장', '동료수감자', '마이클', '78죄수', '조봉암', '이범석', '이인', '전진한',\n       '임영신', '매화', '김승호', '조사관1', '이화장경비', '이종형', '최린', '조사관2', '특경대원',\n       '백민태', '이광수', '최남선', '장경근', '신성모', '원용덕', '최검사', '80판사', '고문경찰',\n       '80경찰', '김기홍', '81통신병A', '81통신병B', '7사단통신병', '1사단통신병', '8사단통신병',\n       '장도영', '채병덕', '본부통신병', '확성방송', '81여손님A', '장군이', '81여손님', '81남손님',\n       '81여손님B', '아나운서', '81경호원', '김석관', '81헌병', '휴가장병', '81초병1', '7사단장',\n       '군인들', '81부관', '81초병2', '이승만 ', '81군인', '81피난민', '최동열 ', '82피난민A',\n       '아나운서 ', '문수국장', '남자들', '82피난민B', '82선동꾼1', '선동꾼들', '82선동꾼2',\n       '우미관패들 ', '82선동꾼3', '채병덕 ', '김책', '82북한군', '82선동꾼4', '82여시민',\n       '82남시민', '82선동꾼5', '82선동꾼6', '82선동꾼7', '82지휘관', '82운전병', '오기자',\n       '문영철 ', '방송관계자', '82군인A', '프란체스카', '82헌병', '공병감', '82군인B', '82군인C',\n       '82폭파병', '여아', '83인민군1', '83공산당1', '83공산당2', '김효석', '인민재판1',\n       '인민재판2', '83경찰', '인민재판3', '83공산당3', '83공산당4', '83공산당5', '83군관',\n       '정일권', '83공산당7', '83공산당6', '83인민군2', '북측조사관2', '문초피의자', '북측조사관1',\n       '83인민군3', '83여상인', '83남상인', '83구경꾼', '83구매자', '83주인장', '83남성',\n       '83공산당8', '83인민군4', '83인민군5', '83공산당9', '인민군들', '보위부군관', '83공산당10',\n       '83인민군6', '김기홍부하', '오철구', '아이들', '고사이마찌', '84부하1', '도박꾼A', '도박꾼들',\n       '손가', '부하들', '84노조원1', '84부하2', '84경비병', '김종원2', '미군양반', '84부관',\n       '84노조원2', '노조원들', '84남상인', '김석원부관', '85교관1', '학도병들', '85교관2',\n       '85교관3', '학도병A', '도박꾼B', '도박꾼C', '도박꾼D', '85형사', '가게주인', '85교관4',\n       '도끼부하1', '도끼', '85손님1', '85손님2', '85여인', '도끼부하2', '김석원', '학도병B',\n       '85인민군1', '간부들', '85우미관', '학도병C', '85무전병', '85인민군2', '85인민군3',\n       '85인민군4', '86인민군1', '86인민군2', '86인민군3', '박경사', '전화공1', '전화공2',\n       '김기흥', '호객꾼', '86웨이터1', '86웨이터2', '86남손님1', '86여손님1', '86여손님2',\n       '86남손님2', '86남손님3', '87경찰', '김종원3', '김종원부관', '부산깡패1', '부산깡패2',\n       '87우미관', '부산깡패3', '김동진', '독사', '보스', '동대문패들', '이석재', '이억일', '이덕현',\n       '박남순', '김태현', '장세규', '88시경국장', '88경찰1', '88경찰2', '87시민', '88기자1',\n       '88기자2', '존슨중령', '구직자1', '구직자2', '구직자3', '독사부하', '89여비서', '89의원',\n       '장건상', '백남식', '의원들', '89신익희', '89동대문1', '이영숙', '89동대문2', '백장미',\n       '주도자1', '시위자들', '주도자2', '주도자3', '여직원', '90판매원', '아오마스', '오상사',\n       '90켈로부대1', '90켈로부대2', '상이군인1', '상이군인2', '물개', '물개부하', '고릴라',\n       '시당의원', '박마리아', '한백수', '짜구', '삼손', '90오야붕', '입찰1', '입찰2', '입찰3',\n       '입찰4', '입찰5', '미8군장교', '홍영철', '한근조', '사마귀', '통발', '아오마스1', '여성들',\n       '91경찰', '서울시의원', '92문지기1', '92문지기2', '거머리', '조수석', '92동대문', '홍영철 ',\n       '갈퀴', '93부하', '양석천', '양훈', '이예춘', '김백희', '조미령', '김승옥', '이성미',\n       '이춘자', '영석천', '이선례', '빅춘자', '여운홍', '눈물 ', '93문지기', '유지광', '김검사',\n       '배우들', '93시장', '93시경국장', '검찰부장', '영등포2', '영등포1', '영등포3', '실업인회장',\n       '93경호원', '93동대문', '상인A', '94상인2', '94상인1', '94상인3', '갈퀴 ', '현도스님',\n       '장석기', '오치수', '94부하', '94동대문1', '94동대문2', '94동대문3', '칠성', '켈로부대A',\n       '대원들', '정양원대표', ' 임화수', '95의원', '자유당원A', '사회자', '이정수', '김동진 ',\n       '춘월', '95부하1', '95부하2', '95부하3', '96자유당1', '96동대문1', '96동대문2',\n       '96자유당2', '96동대문3', '이갑성', '김상도', '96경호원', '96동대문4', '정대발', '채원기',\n       '김형사2', '경찰들', '96경찰', '96기자', '97간수', '경찰간부', '97동대문', '의사A',\n       '넙치', '검찰총장', '이형사', '98기사', '98경찰1', '98기생', '98경찰2', '98경찰3',\n       '98간호사', '99명동', '99동대문', '99보이', '99경찰', '고바우', '도꾸야마', '99경무대',\n       '99남시민', '99여시민', '99의원1', '99의원2', '신익희', '99기자', '윤병호', '진행자',\n       '치안국장', '김영삼', '정양원생', '낙화유수', '권상사', '망치', '망치부하', '켈로부대B',\n       '102기자', '102형사1', '수사과장', '102경찰', '102형사2', '십공주파들', '102동대문1',\n       '102동대문2', '김창룡', '특무대원1', '특무대원2', '특무대원3', '최순주', '103의원', '이철승',\n       '이익흥1', '수학교수', '104동대문', '신기범', '104판매원', '105관객', '105형사', '형사A',\n       '김윤도', '수사관A', '이찬오', '학생들', '김동진패들', '이억일 ', '106검사', '106수사관',\n       '오형무관', '106법무장관', '장경근 ', '106부하', '107고향사람', '107고을대표', '김해정',\n       '아오마스2', '최창수', '삼우회패들', '선대위원장', '108판매원', '108부하', '식당주인',\n       '109의원1', '109의원2', '장면', '109경찰', '꼬마', '돼지', '집배원', '110자유당',\n       '오상사 ', '111서장', '곽영주 ', '아구 ', '최무룡', '김희갑', '112기자', '112형사',\n       '시경국장', '시위대', '내무장관', '113서기', '대구시장', '사무소장', '참관인1', '참관인2',\n       '113서장', '참관인3', '113털보', '청년단간부', '113부하', '청년1', '여인', '113털보부하',\n       '청년2', '이익흥2', '이강석', '이강욱', '김득만', '114동대문1', '114동대문2', '박칠성',\n       '반대파1', '반대파2', '김승한', '114동대문3', '서대문파', '김승한비서', '김득만비서',\n       '114경찰', '114형사', '114의원', '부의장', '유한열', '115국회경비', '115의원',\n       '신문배달부', '116부하1', '청년단원1', '116경비', '청년단원2', '집회진행자', '이검사',\n       '116기자', '116비서', '116법무장관', '117기자', '117오야붕1', '안소위파', '엄복만파',\n       '117부하1', '117부하2', '117부하3', '동대문형사', '118형사1', '박의원', '교도소장',\n       '118형무관', '119운전수', '이천형사', '119경찰', '이천주민1', '이천주민2', '119서장',\n       '119의원', '이만섭', '신도환', '최인규', '야당비서1', '야당비서2', '도꾸야마 ', '야당비서3',\n       '야당비서4', '야당비서5', '시위학생', '121경찰1', '121경찰2', '홍진기', '121경무대1',\n       '121경무대2', '121장관', '121군인', '반공청년단', '소령', '집주인', '경무대비서', '여비서',\n       '조일환', '122형사', '5.16방송', '박정희', '최영규', '군검사1', '군검사2', '122부관1',\n       '군검사3', '122부관2', '이형무관', '122판사', '박형무관', '화수어머니', '조일환부하',\n       '123상인1', '123상인2', '123상인3', '123상인4', '123상인5', '123상인6',\n       '123상인7', '123상인8', '123상인9', '123상인10', '군밤장수', '김장수', '김종필',\n       '기독교인들', '123학생', '조윤형', '이과장', '김형욱', '정보요원', '124비서1', '124비서2',\n       '공원관리인', '124국회경비1', '124국회의장', '박순천', '김대중', '124국회경비2', '124검사',\n       '124의사'], dtype=object)"
     },
     "execution_count": 21,
     "metadata": {},
     "output_type": "execute_result"
    }
   ],
   "source": [
    "speechDF = DF[~DF['인물'].str.contains('#')]\n",
    "speechDF['인물'].unique()"
   ],
   "metadata": {
    "collapsed": false,
    "ExecuteTime": {
     "end_time": "2024-04-05T01:36:00.652089900Z",
     "start_time": "2024-04-05T01:36:00.561551900Z"
    }
   },
   "execution_count": 21
  },
  {
   "cell_type": "code",
   "outputs": [
    {
     "data": {
      "text/plain": "인물\n두한        3232\n이정재       2153\n임화수       1492\n시라소니       828\n김영태        700\n          ... \n85무전병        1\n학도병C         1\n간부들          1\n85인민군1       1\n124의사        1\nName: count, Length: 838, dtype: int64"
     },
     "execution_count": 22,
     "metadata": {},
     "output_type": "execute_result"
    }
   ],
   "source": [
    "speechDF['인물'].value_counts().sort_values(ascending=False)"
   ],
   "metadata": {
    "collapsed": false,
    "ExecuteTime": {
     "end_time": "2024-04-05T01:36:00.652089900Z",
     "start_time": "2024-04-05T01:36:00.594552800Z"
    }
   },
   "execution_count": 22
  },
  {
   "cell_type": "code",
   "outputs": [
    {
     "data": {
      "text/plain": "인물\n두한         True\n이정재        True\n임화수        True\n시라소니       True\n김영태        True\n          ...  \n85무전병     False\n학도병C      False\n간부들       False\n85인민군1    False\n124의사     False\nName: count, Length: 838, dtype: bool"
     },
     "execution_count": 23,
     "metadata": {},
     "output_type": "execute_result"
    }
   ],
   "source": [
    "majorChar = speechDF['인물'].value_counts().sort_values(ascending=False) >= 200\n",
    "majorChar"
   ],
   "metadata": {
    "collapsed": false,
    "ExecuteTime": {
     "end_time": "2024-04-05T01:36:00.653089100Z",
     "start_time": "2024-04-05T01:36:00.607555200Z"
    }
   },
   "execution_count": 23
  },
  {
   "cell_type": "code",
   "outputs": [
    {
     "data": {
      "text/plain": "인물\n두한         True\n이정재        True\n임화수        True\n시라소니       True\n김영태        True\n          ...  \n85무전병     False\n학도병C      False\n간부들       False\n85인민군1    False\n124의사     False\nName: count, Length: 838, dtype: bool"
     },
     "execution_count": 24,
     "metadata": {},
     "output_type": "execute_result"
    }
   ],
   "source": [
    "majorChar2 = speechDF['인물'].value_counts().sort_values(ascending=False) >= 300\n",
    "majorChar2"
   ],
   "metadata": {
    "collapsed": false,
    "ExecuteTime": {
     "end_time": "2024-04-05T01:36:00.654077800Z",
     "start_time": "2024-04-05T01:36:00.624077400Z"
    }
   },
   "execution_count": 24
  },
  {
   "cell_type": "code",
   "outputs": [
    {
     "data": {
      "text/plain": "인물\n두한         True\n이정재        True\n임화수        True\n시라소니       True\n김영태        True\n          ...  \n85무전병     False\n학도병C      False\n간부들       False\n85인민군1    False\n124의사     False\nName: count, Length: 838, dtype: bool"
     },
     "execution_count": 25,
     "metadata": {},
     "output_type": "execute_result"
    }
   ],
   "source": [
    "majorChar3 = speechDF['인물'].value_counts().sort_values(ascending=False) >= 400\n",
    "majorChar3"
   ],
   "metadata": {
    "collapsed": false,
    "ExecuteTime": {
     "end_time": "2024-04-05T01:36:00.682087400Z",
     "start_time": "2024-04-05T01:36:00.640077400Z"
    }
   },
   "execution_count": 25
  },
  {
   "cell_type": "code",
   "outputs": [
    {
     "name": "stderr",
     "output_type": "stream",
     "text": [
      "C:\\Users\\kdp\\AppData\\Local\\Temp\\ipykernel_5660\\618089888.py:1: SettingWithCopyWarning: \n",
      "A value is trying to be set on a copy of a slice from a DataFrame.\n",
      "Try using .loc[row_indexer,col_indexer] = value instead\n",
      "\n",
      "See the caveats in the documentation: https://pandas.pydata.org/pandas-docs/stable/user_guide/indexing.html#returning-a-view-versus-a-copy\n",
      "  speechDF['인물'] = speechDF['인물'].str.strip()\n"
     ]
    }
   ],
   "source": [
    "speechDF['인물'] = speechDF['인물'].str.strip()"
   ],
   "metadata": {
    "collapsed": false,
    "ExecuteTime": {
     "end_time": "2024-04-05T01:36:00.684077200Z",
     "start_time": "2024-04-05T01:36:00.655077500Z"
    }
   },
   "execution_count": 26
  },
  {
   "cell_type": "code",
   "outputs": [
    {
     "data": {
      "text/plain": "(Index(['두한', '이정재', '임화수', '시라소니', '김영태', '정진영', '조병옥', '곽영주', '이기붕', '유지광',\n        '이승만', '김기홍', '유진산', '이화룡', '신영균', '이석재', '눈물', '나레이션', '최동열', '개코',\n        '김관철', '정대발', '문영철', '김동진', '김천호', '이억일', '정팔', '한백수', '장택상', '이영숙',\n        '조열승', '독사', '염동진', '홍만길', '삼수', '애기보살', '워태커'],\n       dtype='object', name='인물'),\n 37)"
     },
     "execution_count": 27,
     "metadata": {},
     "output_type": "execute_result"
    }
   ],
   "source": [
    "majorChar[majorChar == True].index, len(majorChar[majorChar == True].index)"
   ],
   "metadata": {
    "collapsed": false,
    "ExecuteTime": {
     "end_time": "2024-04-05T01:36:00.711097Z",
     "start_time": "2024-04-05T01:36:00.671076600Z"
    }
   },
   "execution_count": 27
  },
  {
   "cell_type": "code",
   "outputs": [
    {
     "data": {
      "text/plain": "(Index(['두한', '이정재', '임화수', '시라소니', '김영태', '정진영', '조병옥', '곽영주', '이기붕', '유지광',\n        '이승만', '김기홍', '유진산', '이화룡', '신영균', '이석재', '눈물', '나레이션', '최동열', '개코',\n        '김관철', '정대발', '문영철'],\n       dtype='object', name='인물'),\n 23)"
     },
     "execution_count": 28,
     "metadata": {},
     "output_type": "execute_result"
    }
   ],
   "source": [
    "majorChar2[majorChar2 == True].index, len(majorChar2[majorChar2 == True].index)"
   ],
   "metadata": {
    "collapsed": false,
    "ExecuteTime": {
     "end_time": "2024-04-05T01:36:00.713094800Z",
     "start_time": "2024-04-05T01:36:00.685076700Z"
    }
   },
   "execution_count": 28
  },
  {
   "cell_type": "code",
   "outputs": [
    {
     "data": {
      "text/plain": "(Index(['두한', '이정재', '임화수', '시라소니', '김영태', '정진영', '조병옥', '곽영주', '이기붕', '유지광',\n        '이승만', '김기홍', '유진산', '이화룡', '신영균', '이석재', '눈물', '나레이션'],\n       dtype='object', name='인물'),\n 18)"
     },
     "execution_count": 29,
     "metadata": {},
     "output_type": "execute_result"
    }
   ],
   "source": [
    "majorChar3[majorChar3 == True].index, len(majorChar3[majorChar3 == True].index)"
   ],
   "metadata": {
    "collapsed": false,
    "ExecuteTime": {
     "end_time": "2024-04-05T01:36:00.741711100Z",
     "start_time": "2024-04-05T01:36:00.702078100Z"
    }
   },
   "execution_count": 29
  },
  {
   "cell_type": "code",
   "outputs": [
    {
     "data": {
      "text/plain": "array(['두한', '김영태', '최동열', '나레이션', '장택상', '유진산', '조병옥', '개코', '신영균',\n       '홍만길', '문영철', '정진영', '김천호', '이정재', '김관철', '염동진', '이화룡', '삼수', '정팔',\n       '이승만', '이기붕', '워태커', '시라소니', '애기보살', '임화수', '조열승', '곽영주', '눈물',\n       '김기홍', '김동진', '독사', '이석재', '이억일', '이영숙', '한백수', '유지광', '정대발'],\n      dtype=object)"
     },
     "execution_count": 30,
     "metadata": {},
     "output_type": "execute_result"
    }
   ],
   "source": [
    "speechDF[speechDF['인물'].isin(majorChar[majorChar == True].index)]['인물'].unique()"
   ],
   "metadata": {
    "collapsed": false,
    "ExecuteTime": {
     "end_time": "2024-04-05T01:36:00.743711400Z",
     "start_time": "2024-04-05T01:36:00.718095700Z"
    }
   },
   "execution_count": 30
  },
  {
   "cell_type": "code",
   "outputs": [],
   "source": [
    "majorDF = speechDF[speechDF['인물'].isin(majorChar[majorChar == True].index)]\n",
    "majorDF2 = speechDF[speechDF['인물'].isin(majorChar2[majorChar2 == True].index)]\n",
    "majorDF3 = speechDF[speechDF['인물'].isin(majorChar3[majorChar3 == True].index)]"
   ],
   "metadata": {
    "collapsed": false,
    "ExecuteTime": {
     "end_time": "2024-04-05T01:36:00.761711600Z",
     "start_time": "2024-04-05T01:36:00.735710700Z"
    }
   },
   "execution_count": 31
  },
  {
   "cell_type": "code",
   "outputs": [
    {
     "name": "stdout",
     "output_type": "stream",
     "text": [
      "<class 'pandas.core.frame.DataFrame'>\n",
      "Index: 21067 entries, 2 to 35723\n",
      "Data columns (total 4 columns):\n",
      " #   Column  Non-Null Count  Dtype \n",
      "---  ------  --------------  ----- \n",
      " 0   회차      21067 non-null  int64 \n",
      " 1   시간      21067 non-null  object\n",
      " 2   인물      21067 non-null  object\n",
      " 3   대사      21067 non-null  object\n",
      "dtypes: int64(1), object(3)\n",
      "memory usage: 822.9+ KB\n",
      "<class 'pandas.core.frame.DataFrame'>\n",
      "Index: 17586 entries, 2 to 35723\n",
      "Data columns (total 4 columns):\n",
      " #   Column  Non-Null Count  Dtype \n",
      "---  ------  --------------  ----- \n",
      " 0   회차      17586 non-null  int64 \n",
      " 1   시간      17586 non-null  object\n",
      " 2   인물      17586 non-null  object\n",
      " 3   대사      17586 non-null  object\n",
      "dtypes: int64(1), object(3)\n",
      "memory usage: 687.0+ KB\n"
     ]
    },
    {
     "data": {
      "text/plain": "(None, None)"
     },
     "execution_count": 32,
     "metadata": {},
     "output_type": "execute_result"
    }
   ],
   "source": [
    "majorDF.info(), majorDF2.info()"
   ],
   "metadata": {
    "collapsed": false,
    "ExecuteTime": {
     "end_time": "2024-04-05T01:36:00.811741600Z",
     "start_time": "2024-04-05T01:36:00.761711600Z"
    }
   },
   "execution_count": 32
  },
  {
   "cell_type": "code",
   "outputs": [],
   "source": [
    "majorDF.to_csv('../data/major.csv', encoding='utf-8')"
   ],
   "metadata": {
    "collapsed": false,
    "ExecuteTime": {
     "end_time": "2024-04-05T01:36:00.854333300Z",
     "start_time": "2024-04-05T01:36:00.793710900Z"
    }
   },
   "execution_count": 33
  },
  {
   "cell_type": "code",
   "outputs": [],
   "source": [
    "majorDF2.to_csv('../data/major2.csv', encoding='utf-8')"
   ],
   "metadata": {
    "collapsed": false,
    "ExecuteTime": {
     "end_time": "2024-04-05T01:36:00.917336Z",
     "start_time": "2024-04-05T01:36:00.856335600Z"
    }
   },
   "execution_count": 34
  },
  {
   "cell_type": "code",
   "outputs": [],
   "source": [
    "majorDF3.to_csv('../data/major3.csv', encoding='utf-8')"
   ],
   "metadata": {
    "collapsed": false,
    "ExecuteTime": {
     "end_time": "2024-04-05T01:36:00.980362100Z",
     "start_time": "2024-04-05T01:36:00.919335800Z"
    }
   },
   "execution_count": 35
  },
  {
   "cell_type": "code",
   "outputs": [],
   "source": [
    "from konlpy.tag import Okt"
   ],
   "metadata": {
    "collapsed": false,
    "ExecuteTime": {
     "end_time": "2024-04-05T01:36:01.003995500Z",
     "start_time": "2024-04-05T01:36:00.982874300Z"
    }
   },
   "execution_count": 36
  },
  {
   "cell_type": "code",
   "outputs": [],
   "source": [
    "okt = Okt()"
   ],
   "metadata": {
    "collapsed": false,
    "ExecuteTime": {
     "end_time": "2024-04-05T01:36:01.016250300Z",
     "start_time": "2024-04-05T01:36:00.998189700Z"
    }
   },
   "execution_count": 37
  },
  {
   "cell_type": "code",
   "outputs": [],
   "source": [],
   "metadata": {
    "collapsed": false,
    "ExecuteTime": {
     "end_time": "2024-04-05T01:36:01.029619200Z",
     "start_time": "2024-04-05T01:36:01.013205700Z"
    }
   },
   "execution_count": 37
  }
 ],
 "metadata": {
  "kernelspec": {
   "display_name": "My_38",
   "language": "python",
   "name": "python3"
  },
  "language_info": {
   "codemirror_mode": {
    "name": "ipython",
    "version": 3
   },
   "file_extension": ".py",
   "mimetype": "text/x-python",
   "name": "python",
   "nbconvert_exporter": "python",
   "pygments_lexer": "ipython3",
   "version": "3.8.19"
  }
 },
 "nbformat": 4,
 "nbformat_minor": 2
}
